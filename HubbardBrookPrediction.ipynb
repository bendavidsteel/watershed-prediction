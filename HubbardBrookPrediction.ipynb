{
 "cells": [
  {
   "cell_type": "markdown",
   "metadata": {},
   "source": [
    "Import all necessary libraries"
   ]
  },
  {
   "cell_type": "code",
   "execution_count": 7,
   "metadata": {},
   "outputs": [],
   "source": [
    "import math\n",
    "import os\n",
    "\n",
    "import tensorflow as tf\n",
    "import matplotlib as mpl\n",
    "import matplotlib.pyplot as plt\n",
    "import numpy as np\n",
    "import pandas as pd\n",
    "\n",
    "# personal libraries\n",
    "import plot\n",
    "import preprocessor\n",
    "\n",
    "mpl.rcParams['figure.figsize'] = (8,6)\n",
    "mpl.rcParams['axes.grid'] = False"
   ]
  },
  {
   "cell_type": "markdown",
   "metadata": {},
   "source": [
    "Define dataset file locations"
   ]
  },
  {
   "cell_type": "code",
   "execution_count": 9,
   "metadata": {},
   "outputs": [],
   "source": [
    "file_names = {\n",
    "    \"daily_gage_precip\" : \"dailyGagePrecip1956-2019.csv\",\n",
    "    \"daily_watershed_precip\" : \"dailyWatershedPrecip1956-2019.csv\",\n",
    "    \"daily_streamflow\" : \"HBEF_DailyStreamflow_1956-2017_longform.csv\",\n",
    "    \"daily_snowwater\" : \"HBEF_snowwater1956-2018.csv\"\n",
    "}\n",
    "\n",
    "this_path = os.getcwd()\n",
    "dataset_path = os.path.join(this_path, \"dataset\")"
   ]
  },
  {
   "cell_type": "markdown",
   "metadata": {},
   "source": [
    "Extract the run-off data from file"
   ]
  },
  {
   "cell_type": "code",
   "execution_count": 3,
   "metadata": {
    "scrolled": true
   },
   "outputs": [
    {
     "data": {
      "text/html": [
       "<div>\n",
       "<style scoped>\n",
       "    .dataframe tbody tr th:only-of-type {\n",
       "        vertical-align: middle;\n",
       "    }\n",
       "\n",
       "    .dataframe tbody tr th {\n",
       "        vertical-align: top;\n",
       "    }\n",
       "\n",
       "    .dataframe thead th {\n",
       "        text-align: right;\n",
       "    }\n",
       "</style>\n",
       "<table border=\"1\" class=\"dataframe\">\n",
       "  <thead>\n",
       "    <tr style=\"text-align: right;\">\n",
       "      <th>Watershed</th>\n",
       "      <th>Date</th>\n",
       "      <th>1</th>\n",
       "      <th>2</th>\n",
       "      <th>3</th>\n",
       "      <th>4</th>\n",
       "      <th>5</th>\n",
       "      <th>6</th>\n",
       "      <th>7</th>\n",
       "      <th>8</th>\n",
       "      <th>9</th>\n",
       "    </tr>\n",
       "  </thead>\n",
       "  <tbody>\n",
       "    <tr>\n",
       "      <th>0</th>\n",
       "      <td>1956-01-01</td>\n",
       "      <td>0.274</td>\n",
       "      <td>-99.0</td>\n",
       "      <td>-99.0</td>\n",
       "      <td>-99.0</td>\n",
       "      <td>-99.0</td>\n",
       "      <td>-99.0</td>\n",
       "      <td>-99.0</td>\n",
       "      <td>-99.0</td>\n",
       "      <td>-99.0</td>\n",
       "    </tr>\n",
       "    <tr>\n",
       "      <th>1</th>\n",
       "      <td>1956-01-02</td>\n",
       "      <td>0.265</td>\n",
       "      <td>-99.0</td>\n",
       "      <td>-99.0</td>\n",
       "      <td>-99.0</td>\n",
       "      <td>-99.0</td>\n",
       "      <td>-99.0</td>\n",
       "      <td>-99.0</td>\n",
       "      <td>-99.0</td>\n",
       "      <td>-99.0</td>\n",
       "    </tr>\n",
       "    <tr>\n",
       "      <th>2</th>\n",
       "      <td>1956-01-03</td>\n",
       "      <td>0.251</td>\n",
       "      <td>-99.0</td>\n",
       "      <td>-99.0</td>\n",
       "      <td>-99.0</td>\n",
       "      <td>-99.0</td>\n",
       "      <td>-99.0</td>\n",
       "      <td>-99.0</td>\n",
       "      <td>-99.0</td>\n",
       "      <td>-99.0</td>\n",
       "    </tr>\n",
       "    <tr>\n",
       "      <th>3</th>\n",
       "      <td>1956-01-04</td>\n",
       "      <td>0.248</td>\n",
       "      <td>-99.0</td>\n",
       "      <td>-99.0</td>\n",
       "      <td>-99.0</td>\n",
       "      <td>-99.0</td>\n",
       "      <td>-99.0</td>\n",
       "      <td>-99.0</td>\n",
       "      <td>-99.0</td>\n",
       "      <td>-99.0</td>\n",
       "    </tr>\n",
       "    <tr>\n",
       "      <th>4</th>\n",
       "      <td>1956-01-05</td>\n",
       "      <td>0.250</td>\n",
       "      <td>-99.0</td>\n",
       "      <td>-99.0</td>\n",
       "      <td>-99.0</td>\n",
       "      <td>-99.0</td>\n",
       "      <td>-99.0</td>\n",
       "      <td>-99.0</td>\n",
       "      <td>-99.0</td>\n",
       "      <td>-99.0</td>\n",
       "    </tr>\n",
       "  </tbody>\n",
       "</table>\n",
       "</div>"
      ],
      "text/plain": [
       "Watershed        Date      1     2     3     4     5     6     7     8     9\n",
       "0          1956-01-01  0.274 -99.0 -99.0 -99.0 -99.0 -99.0 -99.0 -99.0 -99.0\n",
       "1          1956-01-02  0.265 -99.0 -99.0 -99.0 -99.0 -99.0 -99.0 -99.0 -99.0\n",
       "2          1956-01-03  0.251 -99.0 -99.0 -99.0 -99.0 -99.0 -99.0 -99.0 -99.0\n",
       "3          1956-01-04  0.248 -99.0 -99.0 -99.0 -99.0 -99.0 -99.0 -99.0 -99.0\n",
       "4          1956-01-05  0.250 -99.0 -99.0 -99.0 -99.0 -99.0 -99.0 -99.0 -99.0"
      ]
     },
     "execution_count": 3,
     "metadata": {},
     "output_type": "execute_result"
    }
   ],
   "source": [
    "streamflow = pd.read_csv(os.path.join(dataset_path, file_names[\"daily_streamflow\"]), names=[\"Date\", \"Watershed\", \"Streamflow\"], header=0)\n",
    "streamflow = pd.pivot_table(streamflow, values='Streamflow', \n",
    "                   index='Date',\n",
    "                   columns='Watershed').reset_index('Date')\n",
    "streamflow.head()"
   ]
  },
  {
   "cell_type": "code",
   "execution_count": 4,
   "metadata": {},
   "outputs": [
    {
     "data": {
      "text/plain": [
       "(22563, 10)"
      ]
     },
     "execution_count": 4,
     "metadata": {},
     "output_type": "execute_result"
    }
   ],
   "source": [
    "streamflow.shape"
   ]
  },
  {
   "cell_type": "markdown",
   "metadata": {},
   "source": [
    "We have around 22300 time stamps to work with, and we'll use roughly 80% for training"
   ]
  },
  {
   "cell_type": "code",
   "execution_count": 5,
   "metadata": {},
   "outputs": [],
   "source": [
    "TRAIN_SPLIT=18000"
   ]
  },
  {
   "cell_type": "markdown",
   "metadata": {},
   "source": [
    "Set the seed to ensure reproducibility"
   ]
  },
  {
   "cell_type": "code",
   "execution_count": 6,
   "metadata": {},
   "outputs": [],
   "source": [
    "tf.random.set_seed(64)"
   ]
  },
  {
   "cell_type": "markdown",
   "metadata": {},
   "source": [
    "# Forecasting a single run-off using only previous run-off data\n",
    "\n",
    "For the first part of this experiment, we will use one feature, the run-off from watershed 1, to predict future run-off from this watershed."
   ]
  },
  {
   "cell_type": "code",
   "execution_count": 7,
   "metadata": {
    "scrolled": true
   },
   "outputs": [
    {
     "data": {
      "text/plain": [
       "Date\n",
       "1956-01-01    0.274\n",
       "1956-01-02    0.265\n",
       "1956-01-03    0.251\n",
       "1956-01-04    0.248\n",
       "1956-01-05    0.250\n",
       "Name: 1, dtype: float64"
      ]
     },
     "execution_count": 7,
     "metadata": {},
     "output_type": "execute_result"
    }
   ],
   "source": [
    "single_runoff_dataframe = streamflow[1]\n",
    "single_runoff_dataframe.index = streamflow['Date']\n",
    "single_runoff_dataframe.head()"
   ]
  },
  {
   "cell_type": "markdown",
   "metadata": {},
   "source": [
    "Plot roughly 3 years of data"
   ]
  },
  {
   "cell_type": "code",
   "execution_count": 8,
   "metadata": {
    "scrolled": false
   },
   "outputs": [
    {
     "data": {
      "text/plain": [
       "<matplotlib.axes._subplots.AxesSubplot at 0x7f1408522550>"
      ]
     },
     "execution_count": 8,
     "metadata": {},
     "output_type": "execute_result"
    },
    {
     "data": {
      "image/png": "[encoded data removed]",
      "text/plain": [
       "<Figure size 576x432 with 1 Axes>"
      ]
     },
     "metadata": {
      "needs_background": "light"
     },
     "output_type": "display_data"
    }
   ],
   "source": [
    "single_runoff_dataframe.iloc[:1000].plot()"
   ]
  },
  {
   "cell_type": "markdown",
   "metadata": {},
   "source": [
    "Extract values from dataframe into numpy array and normalize"
   ]
  },
  {
   "cell_type": "code",
   "execution_count": 9,
   "metadata": {},
   "outputs": [
    {
     "name": "stdout",
     "output_type": "stream",
     "text": [
      "Shape: (22563,), Max: 22.950993622272136, Min: -0.4564675716258455\n"
     ]
    }
   ],
   "source": [
    "single_runoff = single_runoff_dataframe.values\n",
    "single_runoff_mean = single_runoff[:TRAIN_SPLIT].mean()\n",
    "single_runoff_std = single_runoff[:TRAIN_SPLIT].std()\n",
    "single_runoff = (single_runoff - single_runoff_mean)/single_runoff_std\n",
    "print(\"Shape: {0}, Max: {1}, Min: {2}\".format(single_runoff.shape, single_runoff.max(), single_runoff.min()))"
   ]
  },
  {
   "cell_type": "markdown",
   "metadata": {},
   "source": [
    "We will assume that a 60 day history will contain all significantly correlated data with future run-off values, and we will simply try to predict the next time step."
   ]
  },
  {
   "cell_type": "code",
   "execution_count": 10,
   "metadata": {},
   "outputs": [],
   "source": [
    "historic_timestamps = 20\n",
    "future_targets = 0\n",
    "\n",
    "input_train_runoff, target_train_runoff = preprocessor.univariate_data(single_runoff, 0, TRAIN_SPLIT,\n",
    "                                                                        historic_timestamps, future_targets)\n",
    "input_val_runoff, target_val_runoff = preprocessor.univariate_data(single_runoff, TRAIN_SPLIT, None,\n",
    "                                                                        historic_timestamps, future_targets)"
   ]
  },
  {
   "cell_type": "markdown",
   "metadata": {},
   "source": [
    "Plot historic data with target run-off to try to predict"
   ]
  },
  {
   "cell_type": "code",
   "execution_count": 11,
   "metadata": {},
   "outputs": [
    {
     "data": {
      "image/png": "[encoded data removed]",
      "text/plain": [
       "<Figure size 576x432 with 3 Axes>"
      ]
     },
     "metadata": {
      "needs_background": "light"
     },
     "output_type": "display_data"
    }
   ],
   "source": [
    "fig, axes = plt.subplots(1,3, sharey=True)\n",
    "time_idx = [0, 100, 200]\n",
    "for i in range(len(axes)):\n",
    "    plot.plot_timeseries(axes[i], [input_train_runoff[time_idx[i]], target_train_runoff[time_idx[i]]])"
   ]
  },
  {
   "cell_type": "markdown",
   "metadata": {},
   "source": [
    "Include some kind of baseline (Ellie?)"
   ]
  },
  {
   "cell_type": "markdown",
   "metadata": {},
   "source": [
    "# Recurrent neural network\n",
    "Next we will be using a Recurrent Neural Network (RNN) to predict the run-off. RNNs are well suited to time series data, processing time series step by step and keeping an internal state which summarizes the data seen so far."
   ]
  },
  {
   "cell_type": "markdown",
   "metadata": {},
   "source": [
    "We will now shuffle, batch and cache the dataset:"
   ]
  },
  {
   "cell_type": "code",
   "execution_count": 12,
   "metadata": {},
   "outputs": [],
   "source": [
    "BATCH_SIZE = 128 # using smaller constants as less powerful hardware\n",
    "BUFFER_SIZE = 1000\n",
    "\n",
    "train_runoff = tf.data.Dataset.from_tensor_slices((input_train_runoff, target_train_runoff))\n",
    "train_runoff = train_runoff.cache().shuffle(BUFFER_SIZE).batch(BATCH_SIZE).repeat()\n",
    "\n",
    "val_runoff = tf.data.Dataset.from_tensor_slices((input_val_runoff, target_val_runoff))\n",
    "val_runoff = val_runoff.batch(BATCH_SIZE).repeat()"
   ]
  },
  {
   "cell_type": "markdown",
   "metadata": {},
   "source": [
    "Create the model. We will using a simple RNN layer for now, the Adam optimizer for performant optimization, and the Mean Squared Error as loss due to meaningful spikes in the data."
   ]
  },
  {
   "cell_type": "code",
   "execution_count": 13,
   "metadata": {},
   "outputs": [],
   "source": [
    "simple_runoff_model = tf.keras.models.Sequential([\n",
    "    tf.keras.layers.SimpleRNN(8),\n",
    "    tf.keras.layers.Dense(1)\n",
    "])\n",
    "simple_runoff_model.compile(optimizer='adam', loss='mse')"
   ]
  },
  {
   "cell_type": "markdown",
   "metadata": {},
   "source": [
    "Perform sample prediction to check output of model:"
   ]
  },
  {
   "cell_type": "code",
   "execution_count": 14,
   "metadata": {},
   "outputs": [
    {
     "name": "stdout",
     "output_type": "stream",
     "text": [
      "(128, 1)\n"
     ]
    }
   ],
   "source": [
    "for x, y in val_runoff.take(1):\n",
    "    print(simple_runoff_model.predict(x).shape)"
   ]
  },
  {
   "cell_type": "markdown",
   "metadata": {},
   "source": [
    "Now we will train the model. To save time, we will only complete 100 steps per epoch instead of all of the training data, and we will train for 10 epochs."
   ]
  },
  {
   "cell_type": "code",
   "execution_count": 15,
   "metadata": {},
   "outputs": [
    {
     "name": "stdout",
     "output_type": "stream",
     "text": [
      "Train for 100 steps, validate for 50 steps\n",
      "Epoch 1/10\n",
      "100/100 [==============================] - 6s 56ms/step - loss: 1.4058 - val_loss: 1.3193\n",
      "Epoch 2/10\n",
      "100/100 [==============================] - 4s 39ms/step - loss: 1.0198 - val_loss: 1.0212\n",
      "Epoch 3/10\n",
      "100/100 [==============================] - 4s 36ms/step - loss: 0.8660 - val_loss: 0.8521\n",
      "Epoch 4/10\n",
      "100/100 [==============================] - 4s 37ms/step - loss: 0.7399 - val_loss: 0.7624\n",
      "Epoch 5/10\n",
      "100/100 [==============================] - 4s 36ms/step - loss: 0.6948 - val_loss: 0.7187\n",
      "Epoch 6/10\n",
      "100/100 [==============================] - 4s 36ms/step - loss: 0.6321 - val_loss: 0.6989\n",
      "Epoch 7/10\n",
      "100/100 [==============================] - 4s 36ms/step - loss: 0.7020 - val_loss: 0.6853\n",
      "Epoch 8/10\n",
      "100/100 [==============================] - 3s 34ms/step - loss: 0.6272 - val_loss: 0.6812\n",
      "Epoch 9/10\n",
      "100/100 [==============================] - 4s 40ms/step - loss: 0.5962 - val_loss: 0.6756\n",
      "Epoch 10/10\n",
      "100/100 [==============================] - 3s 35ms/step - loss: 0.6302 - val_loss: 0.6743\n"
     ]
    },
    {
     "data": {
      "text/plain": [
       "<tensorflow.python.keras.callbacks.History at 0x7f1407a07950>"
      ]
     },
     "execution_count": 15,
     "metadata": {},
     "output_type": "execute_result"
    }
   ],
   "source": [
    "STEPS_PER_EPOCH = 100\n",
    "EPOCHS = 10\n",
    "VALIDATION_STEPS=50\n",
    "\n",
    "simple_runoff_model.fit(train_runoff, epochs=EPOCHS,\n",
    "                        steps_per_epoch=STEPS_PER_EPOCH,\n",
    "                        validation_data=val_runoff,\n",
    "                        validation_steps=VALIDATION_STEPS)"
   ]
  },
  {
   "cell_type": "markdown",
   "metadata": {},
   "source": [
    "The model seems to start to hit a minima after 5 or so epochs. Let's see the predictions the model makes on run-off values:"
   ]
  },
  {
   "cell_type": "code",
   "execution_count": 16,
   "metadata": {},
   "outputs": [
    {
     "data": {
      "image/png": "[encoded data removed]",
      "text/plain": [
       "<Figure size 576x432 with 3 Axes>"
      ]
     },
     "metadata": {
      "needs_background": "light"
     },
     "output_type": "display_data"
    }
   ],
   "source": [
    "fig, axes = plt.subplots(1,3, sharey=True)\n",
    "for i, (x, y) in enumerate(val_runoff.take(3)):\n",
    "    plot.plot_timeseries(axes[i], [x[0].numpy(),\n",
    "                                   y[0].numpy(),\n",
    "                                   simple_runoff_model.predict(x)[0]])"
   ]
  },
  {
   "cell_type": "markdown",
   "metadata": {},
   "source": [
    "The model predicts well when run-off is gradually falling after a rainfall, but obviously fails to predict rainfall which drives up the run-off again. Time for a larger model incorporating rain gage measurements across multiple watersheds, predicting the run-off at many points."
   ]
  },
  {
   "cell_type": "markdown",
   "metadata": {},
   "source": [
    "# Using rainfall measurements to aid prediction\n",
    "Extract rain gage precipitation and pivot so that each rain gage has a column. We will ignore all measurements before all rain gages started being used."
   ]
  },
  {
   "cell_type": "code",
   "execution_count": 23,
   "metadata": {},
   "outputs": [
    {
     "data": {
      "text/html": [
       "<div>\n",
       "<style scoped>\n",
       "    .dataframe tbody tr th:only-of-type {\n",
       "        vertical-align: middle;\n",
       "    }\n",
       "\n",
       "    .dataframe tbody tr th {\n",
       "        vertical-align: top;\n",
       "    }\n",
       "\n",
       "    .dataframe thead th {\n",
       "        text-align: right;\n",
       "    }\n",
       "</style>\n",
       "<table border=\"1\" class=\"dataframe\">\n",
       "  <thead>\n",
       "    <tr style=\"text-align: right;\">\n",
       "      <th>RainGage</th>\n",
       "      <th>Date</th>\n",
       "      <th>RG1</th>\n",
       "      <th>RG10</th>\n",
       "      <th>RG11</th>\n",
       "      <th>RG12</th>\n",
       "      <th>RG13</th>\n",
       "      <th>RG14</th>\n",
       "      <th>RG15</th>\n",
       "      <th>RG16</th>\n",
       "      <th>RG17</th>\n",
       "      <th>...</th>\n",
       "      <th>RG23</th>\n",
       "      <th>RG24</th>\n",
       "      <th>RG25</th>\n",
       "      <th>RG3</th>\n",
       "      <th>RG4</th>\n",
       "      <th>RG5</th>\n",
       "      <th>RG6</th>\n",
       "      <th>RG7</th>\n",
       "      <th>RG8</th>\n",
       "      <th>RG9</th>\n",
       "    </tr>\n",
       "  </thead>\n",
       "  <tbody>\n",
       "    <tr>\n",
       "      <th>0</th>\n",
       "      <td>1956-01-01</td>\n",
       "      <td>0.0</td>\n",
       "      <td>NaN</td>\n",
       "      <td>NaN</td>\n",
       "      <td>NaN</td>\n",
       "      <td>NaN</td>\n",
       "      <td>NaN</td>\n",
       "      <td>NaN</td>\n",
       "      <td>NaN</td>\n",
       "      <td>NaN</td>\n",
       "      <td>...</td>\n",
       "      <td>NaN</td>\n",
       "      <td>NaN</td>\n",
       "      <td>NaN</td>\n",
       "      <td>0.0</td>\n",
       "      <td>NaN</td>\n",
       "      <td>NaN</td>\n",
       "      <td>NaN</td>\n",
       "      <td>NaN</td>\n",
       "      <td>NaN</td>\n",
       "      <td>NaN</td>\n",
       "    </tr>\n",
       "    <tr>\n",
       "      <th>1</th>\n",
       "      <td>1956-01-02</td>\n",
       "      <td>0.0</td>\n",
       "      <td>NaN</td>\n",
       "      <td>NaN</td>\n",
       "      <td>NaN</td>\n",
       "      <td>NaN</td>\n",
       "      <td>NaN</td>\n",
       "      <td>NaN</td>\n",
       "      <td>NaN</td>\n",
       "      <td>NaN</td>\n",
       "      <td>...</td>\n",
       "      <td>NaN</td>\n",
       "      <td>NaN</td>\n",
       "      <td>NaN</td>\n",
       "      <td>0.0</td>\n",
       "      <td>NaN</td>\n",
       "      <td>NaN</td>\n",
       "      <td>NaN</td>\n",
       "      <td>NaN</td>\n",
       "      <td>NaN</td>\n",
       "      <td>NaN</td>\n",
       "    </tr>\n",
       "    <tr>\n",
       "      <th>2</th>\n",
       "      <td>1956-01-03</td>\n",
       "      <td>8.1</td>\n",
       "      <td>NaN</td>\n",
       "      <td>NaN</td>\n",
       "      <td>NaN</td>\n",
       "      <td>NaN</td>\n",
       "      <td>NaN</td>\n",
       "      <td>NaN</td>\n",
       "      <td>NaN</td>\n",
       "      <td>NaN</td>\n",
       "      <td>...</td>\n",
       "      <td>NaN</td>\n",
       "      <td>NaN</td>\n",
       "      <td>NaN</td>\n",
       "      <td>8.9</td>\n",
       "      <td>NaN</td>\n",
       "      <td>NaN</td>\n",
       "      <td>NaN</td>\n",
       "      <td>NaN</td>\n",
       "      <td>NaN</td>\n",
       "      <td>NaN</td>\n",
       "    </tr>\n",
       "    <tr>\n",
       "      <th>3</th>\n",
       "      <td>1956-01-04</td>\n",
       "      <td>0.0</td>\n",
       "      <td>NaN</td>\n",
       "      <td>NaN</td>\n",
       "      <td>NaN</td>\n",
       "      <td>NaN</td>\n",
       "      <td>NaN</td>\n",
       "      <td>NaN</td>\n",
       "      <td>NaN</td>\n",
       "      <td>NaN</td>\n",
       "      <td>...</td>\n",
       "      <td>NaN</td>\n",
       "      <td>NaN</td>\n",
       "      <td>NaN</td>\n",
       "      <td>0.0</td>\n",
       "      <td>NaN</td>\n",
       "      <td>NaN</td>\n",
       "      <td>NaN</td>\n",
       "      <td>NaN</td>\n",
       "      <td>NaN</td>\n",
       "      <td>NaN</td>\n",
       "    </tr>\n",
       "    <tr>\n",
       "      <th>4</th>\n",
       "      <td>1956-01-05</td>\n",
       "      <td>0.0</td>\n",
       "      <td>NaN</td>\n",
       "      <td>NaN</td>\n",
       "      <td>NaN</td>\n",
       "      <td>NaN</td>\n",
       "      <td>NaN</td>\n",
       "      <td>NaN</td>\n",
       "      <td>NaN</td>\n",
       "      <td>NaN</td>\n",
       "      <td>...</td>\n",
       "      <td>NaN</td>\n",
       "      <td>NaN</td>\n",
       "      <td>NaN</td>\n",
       "      <td>0.0</td>\n",
       "      <td>NaN</td>\n",
       "      <td>NaN</td>\n",
       "      <td>NaN</td>\n",
       "      <td>NaN</td>\n",
       "      <td>NaN</td>\n",
       "      <td>NaN</td>\n",
       "    </tr>\n",
       "  </tbody>\n",
       "</table>\n",
       "<p>5 rows × 26 columns</p>\n",
       "</div>"
      ],
      "text/plain": [
       "RainGage        Date  RG1  RG10  RG11  RG12  RG13  RG14  RG15  RG16  RG17  \\\n",
       "0         1956-01-01  0.0   NaN   NaN   NaN   NaN   NaN   NaN   NaN   NaN   \n",
       "1         1956-01-02  0.0   NaN   NaN   NaN   NaN   NaN   NaN   NaN   NaN   \n",
       "2         1956-01-03  8.1   NaN   NaN   NaN   NaN   NaN   NaN   NaN   NaN   \n",
       "3         1956-01-04  0.0   NaN   NaN   NaN   NaN   NaN   NaN   NaN   NaN   \n",
       "4         1956-01-05  0.0   NaN   NaN   NaN   NaN   NaN   NaN   NaN   NaN   \n",
       "\n",
       "RainGage  ...  RG23  RG24  RG25  RG3  RG4  RG5  RG6  RG7  RG8  RG9  \n",
       "0         ...   NaN   NaN   NaN  0.0  NaN  NaN  NaN  NaN  NaN  NaN  \n",
       "1         ...   NaN   NaN   NaN  0.0  NaN  NaN  NaN  NaN  NaN  NaN  \n",
       "2         ...   NaN   NaN   NaN  8.9  NaN  NaN  NaN  NaN  NaN  NaN  \n",
       "3         ...   NaN   NaN   NaN  0.0  NaN  NaN  NaN  NaN  NaN  NaN  \n",
       "4         ...   NaN   NaN   NaN  0.0  NaN  NaN  NaN  NaN  NaN  NaN  \n",
       "\n",
       "[5 rows x 26 columns]"
      ]
     },
     "execution_count": 23,
     "metadata": {},
     "output_type": "execute_result"
    }
   ],
   "source": [
    "gage_precip = pd.read_csv(os.path.join(dataset_path, file_names[\"daily_gage_precip\"]), names=[\"Date\", \"RainGage\", \"Precipitation\"], header=0)\n",
    "# reshape so that raingage is also column\n",
    "gage_precip = pd.pivot_table(gage_precip, values='Precipitation', \n",
    "                   index='Date',\n",
    "                   columns='RainGage').reset_index('Date')\n",
    "gage_precip.head()"
   ]
  },
  {
   "cell_type": "markdown",
   "metadata": {},
   "source": [
    "We can see from this data that not all rain gages have data collected from them on every date, and exploring the data shows that there are actually no dates where data from all rain fall gages are collected. We could find a trade-off of a date range where there are a reasonable number of rain fall gages being measured and just use that limited set, but instead due to the spatial correlation I have opted for an approach of replacing the missing values with a distance weighted average of the present values."
   ]
  },
  {
   "cell_type": "markdown",
   "metadata": {},
   "source": [
    "QGIS was used to create a distance matrix of all of the rain gage locations, and this matrix was exported to CSV. First we import the CSV:"
   ]
  },
  {
   "cell_type": "code",
   "execution_count": 10,
   "metadata": {},
   "outputs": [
    {
     "data": {
      "text/html": [
       "<div>\n",
       "<style scoped>\n",
       "    .dataframe tbody tr th:only-of-type {\n",
       "        vertical-align: middle;\n",
       "    }\n",
       "\n",
       "    .dataframe tbody tr th {\n",
       "        vertical-align: top;\n",
       "    }\n",
       "\n",
       "    .dataframe thead th {\n",
       "        text-align: right;\n",
       "    }\n",
       "</style>\n",
       "<table border=\"1\" class=\"dataframe\">\n",
       "  <thead>\n",
       "    <tr style=\"text-align: right;\">\n",
       "      <th></th>\n",
       "      <th>InputID</th>\n",
       "      <th>TargetID</th>\n",
       "      <th>Distance</th>\n",
       "    </tr>\n",
       "  </thead>\n",
       "  <tbody>\n",
       "    <tr>\n",
       "      <th>0</th>\n",
       "      <td>1</td>\n",
       "      <td>2</td>\n",
       "      <td>362.863060</td>\n",
       "    </tr>\n",
       "    <tr>\n",
       "      <th>1</th>\n",
       "      <td>1</td>\n",
       "      <td>3</td>\n",
       "      <td>776.637314</td>\n",
       "    </tr>\n",
       "    <tr>\n",
       "      <th>2</th>\n",
       "      <td>1</td>\n",
       "      <td>4</td>\n",
       "      <td>467.243284</td>\n",
       "    </tr>\n",
       "    <tr>\n",
       "      <th>3</th>\n",
       "      <td>1</td>\n",
       "      <td>5</td>\n",
       "      <td>955.220015</td>\n",
       "    </tr>\n",
       "    <tr>\n",
       "      <th>4</th>\n",
       "      <td>1</td>\n",
       "      <td>6</td>\n",
       "      <td>985.729329</td>\n",
       "    </tr>\n",
       "  </tbody>\n",
       "</table>\n",
       "</div>"
      ],
      "text/plain": [
       "   InputID  TargetID    Distance\n",
       "0        1         2  362.863060\n",
       "1        1         3  776.637314\n",
       "2        1         4  467.243284\n",
       "3        1         5  955.220015\n",
       "4        1         6  985.729329"
      ]
     },
     "execution_count": 10,
     "metadata": {},
     "output_type": "execute_result"
    }
   ],
   "source": [
    "gage_distances = pd.read_csv(os.path.join(dataset_path, \"distanceMatrix.csv\"), \n",
    "                             usecols=[1,2,3],\n",
    "                             delimiter=\"\t\")\n",
    "gage_distances.head()"
   ]
  },
  {
   "cell_type": "markdown",
   "metadata": {},
   "source": [
    "Now using these distances to fill in values using a weighted mean:"
   ]
  },
  {
   "cell_type": "code",
   "execution_count": 49,
   "metadata": {},
   "outputs": [
    {
     "data": {
      "text/html": [
       "<div>\n",
       "<style scoped>\n",
       "    .dataframe tbody tr th:only-of-type {\n",
       "        vertical-align: middle;\n",
       "    }\n",
       "\n",
       "    .dataframe tbody tr th {\n",
       "        vertical-align: top;\n",
       "    }\n",
       "\n",
       "    .dataframe thead th {\n",
       "        text-align: right;\n",
       "    }\n",
       "</style>\n",
       "<table border=\"1\" class=\"dataframe\">\n",
       "  <thead>\n",
       "    <tr style=\"text-align: right;\">\n",
       "      <th>RainGage</th>\n",
       "      <th>RG1</th>\n",
       "      <th>RG10</th>\n",
       "      <th>RG11</th>\n",
       "      <th>RG12</th>\n",
       "      <th>RG13</th>\n",
       "      <th>RG14</th>\n",
       "      <th>RG15</th>\n",
       "      <th>RG16</th>\n",
       "      <th>RG17</th>\n",
       "      <th>RG18</th>\n",
       "      <th>...</th>\n",
       "      <th>RG23</th>\n",
       "      <th>RG24</th>\n",
       "      <th>RG25</th>\n",
       "      <th>RG3</th>\n",
       "      <th>RG4</th>\n",
       "      <th>RG5</th>\n",
       "      <th>RG6</th>\n",
       "      <th>RG7</th>\n",
       "      <th>RG8</th>\n",
       "      <th>RG9</th>\n",
       "    </tr>\n",
       "  </thead>\n",
       "  <tbody>\n",
       "    <tr>\n",
       "      <th>0</th>\n",
       "      <td>0.0</td>\n",
       "      <td>0.000000</td>\n",
       "      <td>0.00000</td>\n",
       "      <td>0.000000</td>\n",
       "      <td>0.000000</td>\n",
       "      <td>0.000000</td>\n",
       "      <td>0.000000</td>\n",
       "      <td>0.000000</td>\n",
       "      <td>0.000000</td>\n",
       "      <td>0.000000</td>\n",
       "      <td>...</td>\n",
       "      <td>0.000000</td>\n",
       "      <td>0.000000</td>\n",
       "      <td>0.000000</td>\n",
       "      <td>0.0</td>\n",
       "      <td>0.000000</td>\n",
       "      <td>0.00000</td>\n",
       "      <td>0.000000</td>\n",
       "      <td>0.000000</td>\n",
       "      <td>0.000000</td>\n",
       "      <td>0.000000</td>\n",
       "    </tr>\n",
       "    <tr>\n",
       "      <th>1</th>\n",
       "      <td>0.0</td>\n",
       "      <td>0.000000</td>\n",
       "      <td>0.00000</td>\n",
       "      <td>0.000000</td>\n",
       "      <td>0.000000</td>\n",
       "      <td>0.000000</td>\n",
       "      <td>0.000000</td>\n",
       "      <td>0.000000</td>\n",
       "      <td>0.000000</td>\n",
       "      <td>0.000000</td>\n",
       "      <td>...</td>\n",
       "      <td>0.000000</td>\n",
       "      <td>0.000000</td>\n",
       "      <td>0.000000</td>\n",
       "      <td>0.0</td>\n",
       "      <td>0.000000</td>\n",
       "      <td>0.00000</td>\n",
       "      <td>0.000000</td>\n",
       "      <td>0.000000</td>\n",
       "      <td>0.000000</td>\n",
       "      <td>0.000000</td>\n",
       "    </tr>\n",
       "    <tr>\n",
       "      <th>2</th>\n",
       "      <td>8.1</td>\n",
       "      <td>8.516172</td>\n",
       "      <td>8.56797</td>\n",
       "      <td>8.542264</td>\n",
       "      <td>8.542384</td>\n",
       "      <td>8.543491</td>\n",
       "      <td>8.544963</td>\n",
       "      <td>8.543361</td>\n",
       "      <td>8.546113</td>\n",
       "      <td>8.533333</td>\n",
       "      <td>...</td>\n",
       "      <td>8.552401</td>\n",
       "      <td>8.549234</td>\n",
       "      <td>8.553154</td>\n",
       "      <td>8.9</td>\n",
       "      <td>8.587625</td>\n",
       "      <td>8.50849</td>\n",
       "      <td>8.452668</td>\n",
       "      <td>8.527525</td>\n",
       "      <td>8.651217</td>\n",
       "      <td>8.501347</td>\n",
       "    </tr>\n",
       "    <tr>\n",
       "      <th>3</th>\n",
       "      <td>0.0</td>\n",
       "      <td>0.000000</td>\n",
       "      <td>0.00000</td>\n",
       "      <td>0.000000</td>\n",
       "      <td>0.000000</td>\n",
       "      <td>0.000000</td>\n",
       "      <td>0.000000</td>\n",
       "      <td>0.000000</td>\n",
       "      <td>0.000000</td>\n",
       "      <td>0.000000</td>\n",
       "      <td>...</td>\n",
       "      <td>0.000000</td>\n",
       "      <td>0.000000</td>\n",
       "      <td>0.000000</td>\n",
       "      <td>0.0</td>\n",
       "      <td>0.000000</td>\n",
       "      <td>0.00000</td>\n",
       "      <td>0.000000</td>\n",
       "      <td>0.000000</td>\n",
       "      <td>0.000000</td>\n",
       "      <td>0.000000</td>\n",
       "    </tr>\n",
       "    <tr>\n",
       "      <th>4</th>\n",
       "      <td>0.0</td>\n",
       "      <td>0.000000</td>\n",
       "      <td>0.00000</td>\n",
       "      <td>0.000000</td>\n",
       "      <td>0.000000</td>\n",
       "      <td>0.000000</td>\n",
       "      <td>0.000000</td>\n",
       "      <td>0.000000</td>\n",
       "      <td>0.000000</td>\n",
       "      <td>0.000000</td>\n",
       "      <td>...</td>\n",
       "      <td>0.000000</td>\n",
       "      <td>0.000000</td>\n",
       "      <td>0.000000</td>\n",
       "      <td>0.0</td>\n",
       "      <td>0.000000</td>\n",
       "      <td>0.00000</td>\n",
       "      <td>0.000000</td>\n",
       "      <td>0.000000</td>\n",
       "      <td>0.000000</td>\n",
       "      <td>0.000000</td>\n",
       "    </tr>\n",
       "  </tbody>\n",
       "</table>\n",
       "<p>5 rows × 25 columns</p>\n",
       "</div>"
      ],
      "text/plain": [
       "RainGage  RG1      RG10     RG11      RG12      RG13      RG14      RG15  \\\n",
       "0         0.0  0.000000  0.00000  0.000000  0.000000  0.000000  0.000000   \n",
       "1         0.0  0.000000  0.00000  0.000000  0.000000  0.000000  0.000000   \n",
       "2         8.1  8.516172  8.56797  8.542264  8.542384  8.543491  8.544963   \n",
       "3         0.0  0.000000  0.00000  0.000000  0.000000  0.000000  0.000000   \n",
       "4         0.0  0.000000  0.00000  0.000000  0.000000  0.000000  0.000000   \n",
       "\n",
       "RainGage      RG16      RG17      RG18  ...      RG23      RG24      RG25  \\\n",
       "0         0.000000  0.000000  0.000000  ...  0.000000  0.000000  0.000000   \n",
       "1         0.000000  0.000000  0.000000  ...  0.000000  0.000000  0.000000   \n",
       "2         8.543361  8.546113  8.533333  ...  8.552401  8.549234  8.553154   \n",
       "3         0.000000  0.000000  0.000000  ...  0.000000  0.000000  0.000000   \n",
       "4         0.000000  0.000000  0.000000  ...  0.000000  0.000000  0.000000   \n",
       "\n",
       "RainGage  RG3       RG4      RG5       RG6       RG7       RG8       RG9  \n",
       "0         0.0  0.000000  0.00000  0.000000  0.000000  0.000000  0.000000  \n",
       "1         0.0  0.000000  0.00000  0.000000  0.000000  0.000000  0.000000  \n",
       "2         8.9  8.587625  8.50849  8.452668  8.527525  8.651217  8.501347  \n",
       "3         0.0  0.000000  0.00000  0.000000  0.000000  0.000000  0.000000  \n",
       "4         0.0  0.000000  0.00000  0.000000  0.000000  0.000000  0.000000  \n",
       "\n",
       "[5 rows x 25 columns]"
      ]
     },
     "execution_count": 49,
     "metadata": {},
     "output_type": "execute_result"
    }
   ],
   "source": [
    "def get_distance(gage_a, gage_b, weights):\n",
    "    cell = weights.query('InputID=={0}&TargetID=={1}'.format(gage_a,gage_b))['Distance']\n",
    "    return cell.values[0]\n",
    "\n",
    "def replace_nan_with_weighted_mean(dataset, weights):\n",
    "    for index, row in dataset.iterrows():\n",
    "        present_values = {}\n",
    "        for col, value in row.iteritems():\n",
    "            if not math.isnan(value):\n",
    "                present_values[col[2:]] = value\n",
    "                \n",
    "        for col, value in row.iteritems():\n",
    "            if math.isnan(value):\n",
    "                accu = 0\n",
    "                total_dist = 0\n",
    "                for key, val in present_values.items():\n",
    "                    try:\n",
    "                        dist = get_distance(key, col[2:], weights)\n",
    "                    except IndexError:\n",
    "                        dist = 1\n",
    "                    accu += val * dist\n",
    "                    total_dist += dist\n",
    "                new_val = accu / total_dist\n",
    "                dataset.at[index,col] = new_val   \n",
    "    \n",
    "    return dataset\n",
    "        \n",
    "gage_precip_filled = replace_nan_with_weighted_mean(gage_precip.drop('Date', axis=1),\n",
    "                                                    gage_distances)\n",
    "gage_precip_filled.head()"
   ]
  },
  {
   "cell_type": "markdown",
   "metadata": {},
   "source": [
    "Add Date column back to dataframe and save to file:"
   ]
  },
  {
   "cell_type": "code",
   "execution_count": 51,
   "metadata": {},
   "outputs": [
    {
     "data": {
      "text/html": [
       "<div>\n",
       "<style scoped>\n",
       "    .dataframe tbody tr th:only-of-type {\n",
       "        vertical-align: middle;\n",
       "    }\n",
       "\n",
       "    .dataframe tbody tr th {\n",
       "        vertical-align: top;\n",
       "    }\n",
       "\n",
       "    .dataframe thead th {\n",
       "        text-align: right;\n",
       "    }\n",
       "</style>\n",
       "<table border=\"1\" class=\"dataframe\">\n",
       "  <thead>\n",
       "    <tr style=\"text-align: right;\">\n",
       "      <th>RainGage</th>\n",
       "      <th>RG1</th>\n",
       "      <th>RG10</th>\n",
       "      <th>RG11</th>\n",
       "      <th>RG12</th>\n",
       "      <th>RG13</th>\n",
       "      <th>RG14</th>\n",
       "      <th>RG15</th>\n",
       "      <th>RG16</th>\n",
       "      <th>RG17</th>\n",
       "      <th>RG18</th>\n",
       "      <th>...</th>\n",
       "      <th>RG24</th>\n",
       "      <th>RG25</th>\n",
       "      <th>RG3</th>\n",
       "      <th>RG4</th>\n",
       "      <th>RG5</th>\n",
       "      <th>RG6</th>\n",
       "      <th>RG7</th>\n",
       "      <th>RG8</th>\n",
       "      <th>RG9</th>\n",
       "      <th>Date</th>\n",
       "    </tr>\n",
       "  </thead>\n",
       "  <tbody>\n",
       "    <tr>\n",
       "      <th>0</th>\n",
       "      <td>0.0</td>\n",
       "      <td>0.000000</td>\n",
       "      <td>0.00000</td>\n",
       "      <td>0.000000</td>\n",
       "      <td>0.000000</td>\n",
       "      <td>0.000000</td>\n",
       "      <td>0.000000</td>\n",
       "      <td>0.000000</td>\n",
       "      <td>0.000000</td>\n",
       "      <td>0.000000</td>\n",
       "      <td>...</td>\n",
       "      <td>0.000000</td>\n",
       "      <td>0.000000</td>\n",
       "      <td>0.0</td>\n",
       "      <td>0.000000</td>\n",
       "      <td>0.00000</td>\n",
       "      <td>0.000000</td>\n",
       "      <td>0.000000</td>\n",
       "      <td>0.000000</td>\n",
       "      <td>0.000000</td>\n",
       "      <td>1956-01-01</td>\n",
       "    </tr>\n",
       "    <tr>\n",
       "      <th>1</th>\n",
       "      <td>0.0</td>\n",
       "      <td>0.000000</td>\n",
       "      <td>0.00000</td>\n",
       "      <td>0.000000</td>\n",
       "      <td>0.000000</td>\n",
       "      <td>0.000000</td>\n",
       "      <td>0.000000</td>\n",
       "      <td>0.000000</td>\n",
       "      <td>0.000000</td>\n",
       "      <td>0.000000</td>\n",
       "      <td>...</td>\n",
       "      <td>0.000000</td>\n",
       "      <td>0.000000</td>\n",
       "      <td>0.0</td>\n",
       "      <td>0.000000</td>\n",
       "      <td>0.00000</td>\n",
       "      <td>0.000000</td>\n",
       "      <td>0.000000</td>\n",
       "      <td>0.000000</td>\n",
       "      <td>0.000000</td>\n",
       "      <td>1956-01-02</td>\n",
       "    </tr>\n",
       "    <tr>\n",
       "      <th>2</th>\n",
       "      <td>8.1</td>\n",
       "      <td>8.516172</td>\n",
       "      <td>8.56797</td>\n",
       "      <td>8.542264</td>\n",
       "      <td>8.542384</td>\n",
       "      <td>8.543491</td>\n",
       "      <td>8.544963</td>\n",
       "      <td>8.543361</td>\n",
       "      <td>8.546113</td>\n",
       "      <td>8.533333</td>\n",
       "      <td>...</td>\n",
       "      <td>8.549234</td>\n",
       "      <td>8.553154</td>\n",
       "      <td>8.9</td>\n",
       "      <td>8.587625</td>\n",
       "      <td>8.50849</td>\n",
       "      <td>8.452668</td>\n",
       "      <td>8.527525</td>\n",
       "      <td>8.651217</td>\n",
       "      <td>8.501347</td>\n",
       "      <td>1956-01-03</td>\n",
       "    </tr>\n",
       "    <tr>\n",
       "      <th>3</th>\n",
       "      <td>0.0</td>\n",
       "      <td>0.000000</td>\n",
       "      <td>0.00000</td>\n",
       "      <td>0.000000</td>\n",
       "      <td>0.000000</td>\n",
       "      <td>0.000000</td>\n",
       "      <td>0.000000</td>\n",
       "      <td>0.000000</td>\n",
       "      <td>0.000000</td>\n",
       "      <td>0.000000</td>\n",
       "      <td>...</td>\n",
       "      <td>0.000000</td>\n",
       "      <td>0.000000</td>\n",
       "      <td>0.0</td>\n",
       "      <td>0.000000</td>\n",
       "      <td>0.00000</td>\n",
       "      <td>0.000000</td>\n",
       "      <td>0.000000</td>\n",
       "      <td>0.000000</td>\n",
       "      <td>0.000000</td>\n",
       "      <td>1956-01-04</td>\n",
       "    </tr>\n",
       "    <tr>\n",
       "      <th>4</th>\n",
       "      <td>0.0</td>\n",
       "      <td>0.000000</td>\n",
       "      <td>0.00000</td>\n",
       "      <td>0.000000</td>\n",
       "      <td>0.000000</td>\n",
       "      <td>0.000000</td>\n",
       "      <td>0.000000</td>\n",
       "      <td>0.000000</td>\n",
       "      <td>0.000000</td>\n",
       "      <td>0.000000</td>\n",
       "      <td>...</td>\n",
       "      <td>0.000000</td>\n",
       "      <td>0.000000</td>\n",
       "      <td>0.0</td>\n",
       "      <td>0.000000</td>\n",
       "      <td>0.00000</td>\n",
       "      <td>0.000000</td>\n",
       "      <td>0.000000</td>\n",
       "      <td>0.000000</td>\n",
       "      <td>0.000000</td>\n",
       "      <td>1956-01-05</td>\n",
       "    </tr>\n",
       "  </tbody>\n",
       "</table>\n",
       "<p>5 rows × 26 columns</p>\n",
       "</div>"
      ],
      "text/plain": [
       "RainGage  RG1      RG10     RG11      RG12      RG13      RG14      RG15  \\\n",
       "0         0.0  0.000000  0.00000  0.000000  0.000000  0.000000  0.000000   \n",
       "1         0.0  0.000000  0.00000  0.000000  0.000000  0.000000  0.000000   \n",
       "2         8.1  8.516172  8.56797  8.542264  8.542384  8.543491  8.544963   \n",
       "3         0.0  0.000000  0.00000  0.000000  0.000000  0.000000  0.000000   \n",
       "4         0.0  0.000000  0.00000  0.000000  0.000000  0.000000  0.000000   \n",
       "\n",
       "RainGage      RG16      RG17      RG18  ...      RG24      RG25  RG3  \\\n",
       "0         0.000000  0.000000  0.000000  ...  0.000000  0.000000  0.0   \n",
       "1         0.000000  0.000000  0.000000  ...  0.000000  0.000000  0.0   \n",
       "2         8.543361  8.546113  8.533333  ...  8.549234  8.553154  8.9   \n",
       "3         0.000000  0.000000  0.000000  ...  0.000000  0.000000  0.0   \n",
       "4         0.000000  0.000000  0.000000  ...  0.000000  0.000000  0.0   \n",
       "\n",
       "RainGage       RG4      RG5       RG6       RG7       RG8       RG9  \\\n",
       "0         0.000000  0.00000  0.000000  0.000000  0.000000  0.000000   \n",
       "1         0.000000  0.00000  0.000000  0.000000  0.000000  0.000000   \n",
       "2         8.587625  8.50849  8.452668  8.527525  8.651217  8.501347   \n",
       "3         0.000000  0.00000  0.000000  0.000000  0.000000  0.000000   \n",
       "4         0.000000  0.00000  0.000000  0.000000  0.000000  0.000000   \n",
       "\n",
       "RainGage        Date  \n",
       "0         1956-01-01  \n",
       "1         1956-01-02  \n",
       "2         1956-01-03  \n",
       "3         1956-01-04  \n",
       "4         1956-01-05  \n",
       "\n",
       "[5 rows x 26 columns]"
      ]
     },
     "execution_count": 51,
     "metadata": {},
     "output_type": "execute_result"
    }
   ],
   "source": [
    "gage_precip_filled['Date'] = gage_precip['Date']\n",
    "gage_precip_filled.to_csv(os.path.join(dataset_path, \"distanceInterpolatedDailyGagePrecip.csv\"))\n",
    "gage_precip_filled.head()"
   ]
  },
  {
   "cell_type": "code",
   "execution_count": 26,
   "metadata": {},
   "outputs": [
    {
     "data": {
      "text/html": [
       "<div>\n",
       "<style scoped>\n",
       "    .dataframe tbody tr th:only-of-type {\n",
       "        vertical-align: middle;\n",
       "    }\n",
       "\n",
       "    .dataframe tbody tr th {\n",
       "        vertical-align: top;\n",
       "    }\n",
       "\n",
       "    .dataframe thead th {\n",
       "        text-align: right;\n",
       "    }\n",
       "</style>\n",
       "<table border=\"1\" class=\"dataframe\">\n",
       "  <thead>\n",
       "    <tr style=\"text-align: right;\">\n",
       "      <th>RainGage</th>\n",
       "      <th>Date</th>\n",
       "      <th>RG1</th>\n",
       "      <th>RG10</th>\n",
       "      <th>RG11</th>\n",
       "      <th>RG12</th>\n",
       "      <th>RG13</th>\n",
       "      <th>RG14</th>\n",
       "      <th>RG15</th>\n",
       "      <th>RG16</th>\n",
       "      <th>RG17</th>\n",
       "      <th>...</th>\n",
       "      <th>RG23</th>\n",
       "      <th>RG24</th>\n",
       "      <th>RG25</th>\n",
       "      <th>RG3</th>\n",
       "      <th>RG4</th>\n",
       "      <th>RG5</th>\n",
       "      <th>RG6</th>\n",
       "      <th>RG7</th>\n",
       "      <th>RG8</th>\n",
       "      <th>RG9</th>\n",
       "    </tr>\n",
       "  </thead>\n",
       "  <tbody>\n",
       "    <tr>\n",
       "      <th>0</th>\n",
       "      <td>1956-01-01</td>\n",
       "      <td>0.0</td>\n",
       "      <td>NaN</td>\n",
       "      <td>NaN</td>\n",
       "      <td>NaN</td>\n",
       "      <td>NaN</td>\n",
       "      <td>NaN</td>\n",
       "      <td>NaN</td>\n",
       "      <td>NaN</td>\n",
       "      <td>NaN</td>\n",
       "      <td>...</td>\n",
       "      <td>NaN</td>\n",
       "      <td>NaN</td>\n",
       "      <td>NaN</td>\n",
       "      <td>0.0</td>\n",
       "      <td>NaN</td>\n",
       "      <td>NaN</td>\n",
       "      <td>NaN</td>\n",
       "      <td>NaN</td>\n",
       "      <td>NaN</td>\n",
       "      <td>NaN</td>\n",
       "    </tr>\n",
       "    <tr>\n",
       "      <th>1</th>\n",
       "      <td>1956-01-02</td>\n",
       "      <td>0.0</td>\n",
       "      <td>NaN</td>\n",
       "      <td>NaN</td>\n",
       "      <td>NaN</td>\n",
       "      <td>NaN</td>\n",
       "      <td>NaN</td>\n",
       "      <td>NaN</td>\n",
       "      <td>NaN</td>\n",
       "      <td>NaN</td>\n",
       "      <td>...</td>\n",
       "      <td>NaN</td>\n",
       "      <td>NaN</td>\n",
       "      <td>NaN</td>\n",
       "      <td>0.0</td>\n",
       "      <td>NaN</td>\n",
       "      <td>NaN</td>\n",
       "      <td>NaN</td>\n",
       "      <td>NaN</td>\n",
       "      <td>NaN</td>\n",
       "      <td>NaN</td>\n",
       "    </tr>\n",
       "    <tr>\n",
       "      <th>2</th>\n",
       "      <td>1956-01-03</td>\n",
       "      <td>8.1</td>\n",
       "      <td>NaN</td>\n",
       "      <td>NaN</td>\n",
       "      <td>NaN</td>\n",
       "      <td>NaN</td>\n",
       "      <td>NaN</td>\n",
       "      <td>NaN</td>\n",
       "      <td>NaN</td>\n",
       "      <td>NaN</td>\n",
       "      <td>...</td>\n",
       "      <td>NaN</td>\n",
       "      <td>NaN</td>\n",
       "      <td>NaN</td>\n",
       "      <td>8.9</td>\n",
       "      <td>NaN</td>\n",
       "      <td>NaN</td>\n",
       "      <td>NaN</td>\n",
       "      <td>NaN</td>\n",
       "      <td>NaN</td>\n",
       "      <td>NaN</td>\n",
       "    </tr>\n",
       "    <tr>\n",
       "      <th>3</th>\n",
       "      <td>1956-01-04</td>\n",
       "      <td>0.0</td>\n",
       "      <td>NaN</td>\n",
       "      <td>NaN</td>\n",
       "      <td>NaN</td>\n",
       "      <td>NaN</td>\n",
       "      <td>NaN</td>\n",
       "      <td>NaN</td>\n",
       "      <td>NaN</td>\n",
       "      <td>NaN</td>\n",
       "      <td>...</td>\n",
       "      <td>NaN</td>\n",
       "      <td>NaN</td>\n",
       "      <td>NaN</td>\n",
       "      <td>0.0</td>\n",
       "      <td>NaN</td>\n",
       "      <td>NaN</td>\n",
       "      <td>NaN</td>\n",
       "      <td>NaN</td>\n",
       "      <td>NaN</td>\n",
       "      <td>NaN</td>\n",
       "    </tr>\n",
       "    <tr>\n",
       "      <th>4</th>\n",
       "      <td>1956-01-05</td>\n",
       "      <td>0.0</td>\n",
       "      <td>NaN</td>\n",
       "      <td>NaN</td>\n",
       "      <td>NaN</td>\n",
       "      <td>NaN</td>\n",
       "      <td>NaN</td>\n",
       "      <td>NaN</td>\n",
       "      <td>NaN</td>\n",
       "      <td>NaN</td>\n",
       "      <td>...</td>\n",
       "      <td>NaN</td>\n",
       "      <td>NaN</td>\n",
       "      <td>NaN</td>\n",
       "      <td>0.0</td>\n",
       "      <td>NaN</td>\n",
       "      <td>NaN</td>\n",
       "      <td>NaN</td>\n",
       "      <td>NaN</td>\n",
       "      <td>NaN</td>\n",
       "      <td>NaN</td>\n",
       "    </tr>\n",
       "  </tbody>\n",
       "</table>\n",
       "<p>5 rows × 26 columns</p>\n",
       "</div>"
      ],
      "text/plain": [
       "RainGage        Date  RG1  RG10  RG11  RG12  RG13  RG14  RG15  RG16  RG17  \\\n",
       "0         1956-01-01  0.0   NaN   NaN   NaN   NaN   NaN   NaN   NaN   NaN   \n",
       "1         1956-01-02  0.0   NaN   NaN   NaN   NaN   NaN   NaN   NaN   NaN   \n",
       "2         1956-01-03  8.1   NaN   NaN   NaN   NaN   NaN   NaN   NaN   NaN   \n",
       "3         1956-01-04  0.0   NaN   NaN   NaN   NaN   NaN   NaN   NaN   NaN   \n",
       "4         1956-01-05  0.0   NaN   NaN   NaN   NaN   NaN   NaN   NaN   NaN   \n",
       "\n",
       "RainGage  ...  RG23  RG24  RG25  RG3  RG4  RG5  RG6  RG7  RG8  RG9  \n",
       "0         ...   NaN   NaN   NaN  0.0  NaN  NaN  NaN  NaN  NaN  NaN  \n",
       "1         ...   NaN   NaN   NaN  0.0  NaN  NaN  NaN  NaN  NaN  NaN  \n",
       "2         ...   NaN   NaN   NaN  8.9  NaN  NaN  NaN  NaN  NaN  NaN  \n",
       "3         ...   NaN   NaN   NaN  0.0  NaN  NaN  NaN  NaN  NaN  NaN  \n",
       "4         ...   NaN   NaN   NaN  0.0  NaN  NaN  NaN  NaN  NaN  NaN  \n",
       "\n",
       "[5 rows x 26 columns]"
      ]
     },
     "execution_count": 26,
     "metadata": {},
     "output_type": "execute_result"
    }
   ],
   "source": [
    "gage_precip.head()"
   ]
  },
  {
   "cell_type": "markdown",
   "metadata": {},
   "source": [
    "Do the same for the snowwater equivalent data"
   ]
  },
  {
   "cell_type": "code",
   "execution_count": null,
   "metadata": {
    "scrolled": true
   },
   "outputs": [],
   "source": [
    "snowwater = pd.read_csv(os.path.join(dataset_path, file_names[\"daily_snowwater\"]),\n",
    "                        names=[\"Winter\",\"Date\",\"STA1\",\"STA2\",\"STA3\",\"STA4\",\"STA5\", \\\n",
    "                               \"STA6\",\"STA7\",\"STA8\",\"STA9\",\"STA10\",\"STA11\",\"STA12\", \\\n",
    "                               \"STA13\",\"STA14\",\"STA15\",\"STA16\",\"STA17\",\"STA19\",\"STA20\",\"STA21\",\"STAHQ\"], header=0)\n",
    "snowwater.head()"
   ]
  },
  {
   "cell_type": "code",
   "execution_count": null,
   "metadata": {},
   "outputs": [],
   "source": []
  },
  {
   "cell_type": "markdown",
   "metadata": {},
   "source": [
    "# Further Work\n",
    "Predict missing rainfall and snowwater values with some kind of network learning method, possible including more variables such as wind speed and direction, temperature values"
   ]
  },
  {
   "cell_type": "code",
   "execution_count": null,
   "metadata": {},
   "outputs": [],
   "source": []
  }
 ],
 "metadata": {
  "kernelspec": {
   "display_name": "Python 3",
   "language": "python",
   "name": "python3"
  },
  "language_info": {
   "codemirror_mode": {
    "name": "ipython",
    "version": 3
   },
   "file_extension": ".py",
   "mimetype": "text/x-python",
   "name": "python",
   "nbconvert_exporter": "python",
   "pygments_lexer": "ipython3",
   "version": "3.7.4"
  }
 },
 "nbformat": 4,
 "nbformat_minor": 4
}
